{
 "cells": [
  {
   "cell_type": "code",
   "execution_count": null,
   "id": "fc475111-f2f5-4562-bfae-cd45cc07acb8",
   "metadata": {},
   "outputs": [],
   "source": [
    "# Import modules\n",
    "import splinter\n",
    "import selenium\n",
    "import pandas as pd\n",
    "from splinter import Browser\n",
    "from bs4 import BeautifulSoup\n",
    "from webdriver_manager.chrome import ChromeDriverManager"
   ]
  },
  {
   "cell_type": "code",
   "execution_count": null,
   "id": "116a5a8e",
   "metadata": {},
   "outputs": [],
   "source": [
    "# Set up splinter\n",
    "executable_path = {'executable_path': ChromeDriverManager().install()}\n",
    "browser = Browser('chrome', **executable_path, headless=False)"
   ]
  },
  {
   "cell_type": "markdown",
   "id": "6ea04473-eb4d-4937-9d15-fe60d7bbbe86",
   "metadata": {},
   "source": [
    "NASA Mars News\n",
    "\n",
    "Scrape the Mars News Site and collect the latest News Title and Paragraph Text. Assign the text to variables that you can reference later."
   ]
  },
  {
   "cell_type": "code",
   "execution_count": null,
   "id": "f1286537-3b76-4557-8bb0-2e2a0afb1b72",
   "metadata": {},
   "outputs": [],
   "source": [
    "# Scrape MARS web\n",
    "def mars_news(browser):\n",
    "\n",
    "    # Initialize base url\n",
    "    base_url = 'https://redplanetscience.com/'\n",
    "\n",
    "    # Visit browser\n",
    "    browser.visit(base_url)\n",
    "\n",
    "    # Allow delay for loading page\n",
    "    browser.is_element_present_by_css('div.list_text', wait_time=1)\n",
    "\n",
    "    # Generate soup object and then quit browser\n",
    "    html = browser.html\n",
    "    soup = soup(html, 'html.parser')\n",
    "    browser.quit()\n",
    "\n",
    "    # Add try/except for error handling\n",
    "    try:\n",
    "        slide_elem = soup.select_one('div.list_text')\n",
    "\n",
    "        # Save news title\n",
    "        news_title = slide_elem.find(\"div\", class_=\"content_title\").get_text()\n",
    "        \n",
    "        # Save news paragraph\n",
    "        news_p = slide_elem.find(\"div\", class_=\"article_teaser_body\").get_text()\n",
    "\n",
    "    except AttributeError:\n",
    "        print(\"Uh oh! Something went wrong\")\n",
    "\n",
    "    return news_title, news_p"
   ]
  },
  {
   "cell_type": "code",
   "execution_count": null,
   "id": "b3b5d06a",
   "metadata": {},
   "outputs": [],
   "source": [
    "# Execute Mars scraper and print results\n",
    "news_title, news_p = mars_news(browser)\n",
    "print(news_title)\n",
    "print(news_p)"
   ]
  },
  {
   "cell_type": "markdown",
   "id": "d058711c-e9a3-42f0-a7b9-8c7b3a1ca40f",
   "metadata": {},
   "source": [
    "JPL Mars Space Images - Featured Image\n",
    "\n",
    "Visit the url for the Featured Space Image site here.\n",
    "\n",
    "Use splinter to navigate the site and find the image url for the current Featured Mars Image and assign the url string to a variable called featured_image_url.\n",
    "\n",
    "Make sure to find the image url to the full size .jpg image.\n",
    "\n",
    "Make sure to save a complete url string for this image."
   ]
  },
  {
   "cell_type": "code",
   "execution_count": null,
   "id": "7473ed2c",
   "metadata": {},
   "outputs": [],
   "source": [
    "# Scrape JPL web\n",
    "def jpl(browser):\n",
    "\n",
    "    # Initialize base url\n",
    "    base_url = \"https://www.jpl.nasa.gov\"\n",
    "\n",
    "    # Visit browser\n",
    "    browser.visit(base_url)\n",
    "\n",
    "    # Allow delay for loading page\n",
    "    browser.is_element_present_by_css('div.list_text', wait_time=1)\n",
    "\n",
    "    # Generate soup object and then quit browser\n",
    "    html = browser.html\n",
    "    soup = soup(html, 'html.parser')\n",
    "    browser.quit()\n",
    "\n",
    "    # Add try/except for error handling\n",
    "    try:\n",
    "        # Save image url\n",
    "        style = soup.find(class_ = \"main_feature\").find(class_ = \"carousel_items\").article[\"style\"]\n",
    "        img_url = base_url + style.split(\"url\")[1].strip(\";(')\")\n",
    "\n",
    "    except AttributeError:\n",
    "        print(\"Uh oh! Something went wrong\")\n",
    "\n",
    "    return img_url"
   ]
  },
  {
   "cell_type": "code",
   "execution_count": null,
   "id": "a42aaf4e",
   "metadata": {},
   "outputs": [],
   "source": [
    "# Execute JPL scraper and print results\n",
    "img_url = jpl(browser)\n",
    "print(img_url)"
   ]
  },
  {
   "cell_type": "markdown",
   "id": "99b9b49d-56b1-4e7e-8364-4571af95ef6c",
   "metadata": {},
   "source": [
    "Mars Facts\n",
    "\n",
    "Visit the Mars Facts webpage here and use Pandas to scrape the table containing facts about the planet including Diameter, Mass, etc.\n",
    "\n",
    "Use Pandas to convert the data to a HTML table string."
   ]
  },
  {
   "cell_type": "code",
   "execution_count": null,
   "id": "fda4e695",
   "metadata": {},
   "outputs": [],
   "source": [
    "# Scrape Mars facts\n",
    "def mars_facts(browser):\n",
    "\n",
    "    # Initialize base url\n",
    "    base_url = 'https://space-facts.com/mars/'\n",
    "\n",
    "    # Generate html table\n",
    "    table = pd.read_html(base_url)[0]\n",
    "\n",
    "    # Rename columns\n",
    "    table.rename(columns={0:\"metric\", 1:\"value\"}, inplace=True)\n",
    "\n",
    "    # Convert table to html\n",
    "    table_html = table.to_html(index=False)\n",
    "\n",
    "    # Strip unwanted newlines\n",
    "    table_html = table_html.replace('\\n', '')\n",
    "\n",
    "    # Strip table tag\n",
    "    table_html = table_html.replace(\"<table border=\\\"1\\\" class=\\\"dataframe\\\">\", \"\").replace(\"</table>\", \"\").strip()\n",
    "\n",
    "    return table_html"
   ]
  },
  {
   "cell_type": "code",
   "execution_count": null,
   "id": "5a425003",
   "metadata": {},
   "outputs": [],
   "source": [
    "# Execute Mars Facts scraper and print results\n",
    "table_html = mars_facts(browser)\n",
    "print(table_html)"
   ]
  },
  {
   "cell_type": "markdown",
   "id": "937a8509-4fcc-4dd9-9861-c5e5be99f937",
   "metadata": {},
   "source": [
    "Mars Hemispheres\n",
    "\n",
    "Visit the astrogeology site here to obtain high resolution images for each of Mar's hemispheres.\n",
    "\n",
    "You will need to click each of the links to the hemispheres in order to find the image url to the full resolution image.\n",
    "\n",
    "Save both the image url string for the full resolution hemisphere image, and the Hemisphere title containing the hemisphere name. Use a Python dictionary to store the data using the keys img_url and title.\n",
    "\n",
    "Append the dictionary with the image url string and the hemisphere title to a list. This list will contain one dictionary for each hemisphere."
   ]
  },
  {
   "cell_type": "code",
   "execution_count": null,
   "id": "163faf4f",
   "metadata": {},
   "outputs": [],
   "source": [
    "# Scrape Mars hemispheres\n",
    "def mars_hemi(browser):\n",
    "\n",
    "    # Initialize base url\n",
    "    base_url = 'https://astrogeology.usgs.gov/search/results?q=hemisphere+enhanced&k1=target&v1=Mars'\n",
    "\n",
    "    # Visit browser\n",
    "    browser.visit(base_url)\n",
    "\n",
    "    # Allow delay for loading page\n",
    "    browser.is_element_present_by_css('div.list_text', wait_time=1)\n",
    "\n",
    "    # Generate soup object and then quit browser\n",
    "    html = browser.html\n",
    "    soup = soup(html, 'html.parser')\n",
    "    browser.quit()\n",
    "\n",
    "    # Generate urls for each hemisphere\n",
    "    hemi_base_url = \"https://astrogeology.usgs.gov\"\n",
    "    links = [hemi_base_url + item.find(class_=\"description\").a[\"href\"] for item in soup.find_all(\"div\", class_=\"item\")]\n",
    "\n",
    "    # Initialize list of image urls\n",
    "    image_urls = []\n",
    "\n",
    "    # Loop through each link\n",
    "    for link in links:\n",
    "        try:\n",
    "            # Visit link and make soup object\n",
    "            browser.visit(link)\n",
    "            html = browser.html\n",
    "            soup = BeautifulSoup(html, 'html.parser')\n",
    "            \n",
    "            # Extract title and image url\n",
    "            title = soup.find(\"div\", class_=\"content\").find(\"h2\", class_=\"title\").text.replace(\" Enhanced\", \"\")\n",
    "            image_url = base_url + soup.find(\"img\", class_=\"wide-image\")[\"src\"]\n",
    "            \n",
    "            # Store in list\n",
    "            image_urls.append({\"title\": title, \"image_url\": image_url})\n",
    "\n",
    "            # Quite browser\n",
    "            browser.quit()\n",
    "\n",
    "        except AttributeError:\n",
    "            print(\"Uh oh! Something went wrong\")\n",
    "\n",
    "    return image_urls\n"
   ]
  },
  {
   "cell_type": "code",
   "execution_count": null,
   "id": "8c6296fb",
   "metadata": {},
   "outputs": [],
   "source": [
    "# Execute Mars hemisphere scraper and print results\n",
    "image_urls = mars_hemi(browser)\n",
    "print(image_urls)"
   ]
  }
 ],
 "metadata": {
  "interpreter": {
   "hash": "31f2aee4e71d21fbe5cf8b01ff0e069b9275f58929596ceb00d14d90e3e16cd6"
  },
  "kernelspec": {
   "display_name": "Python 3.8.2 64-bit",
   "language": "python",
   "name": "python3"
  },
  "language_info": {
   "codemirror_mode": {
    "name": "ipython",
    "version": 3
   },
   "file_extension": ".py",
   "mimetype": "text/x-python",
   "name": "python",
   "nbconvert_exporter": "python",
   "pygments_lexer": "ipython3",
   "version": "3.8.2"
  }
 },
 "nbformat": 4,
 "nbformat_minor": 5
}
