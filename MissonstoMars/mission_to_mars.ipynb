{
 "cells": [
  {
   "cell_type": "code",
   "execution_count": 4,
   "id": "fc475111-f2f5-4562-bfae-cd45cc07acb8",
   "metadata": {},
   "outputs": [],
   "source": [
    "# Import modules\n",
    "import splinter\n",
    "import selenium"
   ]
  },
  {
   "cell_type": "markdown",
   "id": "6ea04473-eb4d-4937-9d15-fe60d7bbbe86",
   "metadata": {},
   "source": [
    "NASA Mars News\n",
    "\n",
    "Scrape the Mars News Site and collect the latest News Title and Paragraph Text. Assign the text to variables that you can reference later."
   ]
  },
  {
   "cell_type": "code",
   "execution_count": null,
   "id": "f1286537-3b76-4557-8bb0-2e2a0afb1b72",
   "metadata": {},
   "outputs": [],
   "source": [
    "# Scrape MARS web\n",
    "base_url = \"https://redplanetscience.com/\""
   ]
  },
  {
   "cell_type": "markdown",
   "id": "d058711c-e9a3-42f0-a7b9-8c7b3a1ca40f",
   "metadata": {},
   "source": [
    "JPL Mars Space Images - Featured Image\n",
    "\n",
    "Visit the url for the Featured Space Image site here.\n",
    "\n",
    "Use splinter to navigate the site and find the image url for the current Featured Mars Image and assign the url string to a variable called featured_image_url.\n",
    "\n",
    "Make sure to find the image url to the full size .jpg image.\n",
    "\n",
    "Make sure to save a complete url string for this image."
   ]
  },
  {
   "cell_type": "markdown",
   "id": "99b9b49d-56b1-4e7e-8364-4571af95ef6c",
   "metadata": {},
   "source": [
    "Mars Facts\n",
    "\n",
    "Visit the Mars Facts webpage here and use Pandas to scrape the table containing facts about the planet including Diameter, Mass, etc.\n",
    "\n",
    "Use Pandas to convert the data to a HTML table string."
   ]
  },
  {
   "cell_type": "markdown",
   "id": "937a8509-4fcc-4dd9-9861-c5e5be99f937",
   "metadata": {},
   "source": [
    "Mars Hemispheres\n",
    "\n",
    "Visit the astrogeology site here to obtain high resolution images for each of Mar's hemispheres.\n",
    "\n",
    "You will need to click each of the links to the hemispheres in order to find the image url to the full resolution image.\n",
    "\n",
    "Save both the image url string for the full resolution hemisphere image, and the Hemisphere title containing the hemisphere name. Use a Python dictionary to store the data using the keys img_url and title.\n",
    "\n",
    "Append the dictionary with the image url string and the hemisphere title to a list. This list will contain one dictionary for each hemisphere."
   ]
  },
  {
   "cell_type": "code",
   "execution_count": null,
   "id": "2ff6e0d0-d05e-4d83-816c-6c5a9bef7668",
   "metadata": {},
   "outputs": [],
   "source": []
  }
 ],
 "metadata": {
  "kernelspec": {
   "display_name": "Python 3 (ipykernel)",
   "language": "python",
   "name": "python3"
  },
  "language_info": {
   "codemirror_mode": {
    "name": "ipython",
    "version": 3
   },
   "file_extension": ".py",
   "mimetype": "text/x-python",
   "name": "python",
   "nbconvert_exporter": "python",
   "pygments_lexer": "ipython3",
   "version": "3.9.7"
  }
 },
 "nbformat": 4,
 "nbformat_minor": 5
}